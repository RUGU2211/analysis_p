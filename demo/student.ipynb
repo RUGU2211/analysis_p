{
 "cells": [
  {
   "cell_type": "code",
   "execution_count": 23,
   "id": "7d686e25",
   "metadata": {},
   "outputs": [],
   "source": [
    "import sqlite3\n",
    "conn = sqlite3.connect(\"student1.db\")\n",
    "cursor = conn.cursor()"
   ]
  },
  {
   "cell_type": "code",
   "execution_count": 24,
   "id": "7b8acc30",
   "metadata": {},
   "outputs": [],
   "source": [
    "cursor.execute('''create table if not exists student1(\n",
    "               id integer primary key,\n",
    "                name text,\n",
    "               course text,\n",
    "               result text check(result in(\"Pass\",\"Fail\")))''')\n",
    "conn.commit()"
   ]
  },
  {
   "cell_type": "code",
   "execution_count": 38,
   "id": "31fe8eb1",
   "metadata": {},
   "outputs": [
    {
     "data": {
      "text/plain": [
       "<sqlite3.Cursor at 0x1fc8a76fd50>"
      ]
     },
     "execution_count": 38,
     "metadata": {},
     "output_type": "execute_result"
    }
   ],
   "source": [
    "# insert\n",
    "cursor.execute(\"insert into student1(id,name,course,result) values(?,?,?,?)\",(2,\"xyz\",\"mca\",\"Pass\"))\n"
   ]
  },
  {
   "cell_type": "code",
   "execution_count": 26,
   "id": "ff2eccc4",
   "metadata": {},
   "outputs": [
    {
     "data": {
      "text/plain": [
       "<sqlite3.Cursor at 0x1fc8a76fd50>"
      ]
     },
     "execution_count": 26,
     "metadata": {},
     "output_type": "execute_result"
    }
   ],
   "source": [
    "# insert user input\n",
    "id = int(input(\"enter id\"))\n",
    "name = input(\"enter name\")\n",
    "course = input(\"enter course\")\n",
    "result = input(\"enter result\")\n",
    "\n",
    "cursor.execute(\"insert into student1(id,name,course,result) values(?,?,?,?)\",(id,name,course,result))\n"
   ]
  },
  {
   "cell_type": "code",
   "execution_count": 39,
   "id": "3b641cfe",
   "metadata": {},
   "outputs": [
    {
     "name": "stdout",
     "output_type": "stream",
     "text": [
      "students [(1, 'ABC', 'MBA', 'Pass'), (2, 'xyz', 'mca', 'Pass')]\n"
     ]
    }
   ],
   "source": [
    "# display\n",
    "cursor.execute(\"select * from student1\")\n",
    "student = cursor.fetchall()\n",
    "print(\"students\",student)"
   ]
  },
  {
   "cell_type": "code",
   "execution_count": 33,
   "id": "474b65f0",
   "metadata": {},
   "outputs": [
    {
     "name": "stdout",
     "output_type": "stream",
     "text": [
      "students [(1, 'ABC', 'MCA', 'Pass')]\n"
     ]
    }
   ],
   "source": [
    "# display with where\n",
    "name = input(\"enter name\")\n",
    "cursor.execute(\"select * from student1 where name=?\",(name,))\n",
    "student = cursor.fetchall()\n",
    "print(\"students\",student)"
   ]
  },
  {
   "cell_type": "code",
   "execution_count": 34,
   "id": "297751d8",
   "metadata": {},
   "outputs": [
    {
     "name": "stdout",
     "output_type": "stream",
     "text": [
      "after updating [(1, 'ABC', 'MBA', 'Pass'), (2, 'xyz', 'mba', 'Pass')]\n"
     ]
    }
   ],
   "source": [
    "name = input(\"enter name\")\n",
    "course = input(\"enter course\")\n",
    "\n",
    "cursor.execute(\"update student1 set course=? where name=?\",(course,name))\n",
    "\n",
    "cursor.execute(\"select * from student1\")\n",
    "student = cursor.fetchall()\n",
    "print(\"after updating\",student)"
   ]
  },
  {
   "cell_type": "code",
   "execution_count": 40,
   "id": "81c9fff0",
   "metadata": {},
   "outputs": [
    {
     "name": "stdout",
     "output_type": "stream",
     "text": [
      "after deleting [(1, 'ABC', 'MBA', 'Pass')]\n"
     ]
    }
   ],
   "source": [
    "# delete\n",
    "\n",
    "cursor.execute(\"delete from student1 where name = ?\",(\"xyz\",))\n",
    "\n",
    "cursor.execute(\"select * from student1\")\n",
    "student = cursor.fetchall()\n",
    "print(\"after deleting\",student)"
   ]
  }
 ],
 "metadata": {
  "kernelspec": {
   "display_name": "Python 3",
   "language": "python",
   "name": "python3"
  },
  "language_info": {
   "codemirror_mode": {
    "name": "ipython",
    "version": 3
   },
   "file_extension": ".py",
   "mimetype": "text/x-python",
   "name": "python",
   "nbconvert_exporter": "python",
   "pygments_lexer": "ipython3",
   "version": "3.9.7"
  }
 },
 "nbformat": 4,
 "nbformat_minor": 5
}
