{
 "cells": [
  {
   "cell_type": "code",
   "execution_count": null,
   "metadata": {},
   "outputs": [],
   "source": [
    "import sqlite3\n",
    "conn = sqlite3.connect(\"student.db\")\n",
    "cursor = conn.cursor()"
   ]
  },
  {
   "cell_type": "code",
   "execution_count": 3,
   "metadata": {},
   "outputs": [],
   "source": [
    "# Create table \n",
    "\n",
    "cursor.execute('''create table if not exists student1(\n",
    "               id integer primary key,\n",
    "               name text,\n",
    "               course text,\n",
    "               result text check(result in(\"pass\",\"fail\")))''')\n",
    "conn.commit()\n"
   ]
  },
  {
   "cell_type": "code",
   "execution_count": 5,
   "metadata": {},
   "outputs": [
    {
     "data": {
      "text/plain": [
       "<sqlite3.Cursor at 0x257a536fc00>"
      ]
     },
     "execution_count": 5,
     "metadata": {},
     "output_type": "execute_result"
    }
   ],
   "source": [
    "# Insert \n",
    "cursor.execute(\"insert into student1(id,name,course,result) values(?,?,?,?)\",(1,\"Abc\",\"Mca\",\"pass\"))"
   ]
  },
  {
   "cell_type": "code",
   "execution_count": 8,
   "metadata": {},
   "outputs": [
    {
     "data": {
      "text/plain": [
       "<sqlite3.Cursor at 0x257a536fc00>"
      ]
     },
     "execution_count": 8,
     "metadata": {},
     "output_type": "execute_result"
    }
   ],
   "source": [
    "# Insert User Input\n",
    "id = int(input(\"Enter Id: \"))\n",
    "name = input(\"Enter name\")\n",
    "course = input(\"Enter Course\")\n",
    "result = input(\"Enter result\")\n",
    "\n",
    "cursor.execute(\"insert into student1(id,name,course,result) values(?,?,?,?)\",(id,name,course,result))"
   ]
  },
  {
   "cell_type": "code",
   "execution_count": 9,
   "metadata": {},
   "outputs": [
    {
     "name": "stdout",
     "output_type": "stream",
     "text": [
      "student:  [(1, 'Abc', 'Mca', 'pass'), (3, 'rugu', 'mba', 'pass')]\n"
     ]
    }
   ],
   "source": [
    "# Display \n",
    "\n",
    "cursor.execute(\"select * from student1\")\n",
    "student = cursor.fetchall()\n",
    "print(\"student: \",student)"
   ]
  },
  {
   "cell_type": "code",
   "execution_count": 10,
   "metadata": {},
   "outputs": [
    {
     "name": "stdout",
     "output_type": "stream",
     "text": [
      "Student:  [(3, 'rugu', 'mba', 'pass')]\n"
     ]
    }
   ],
   "source": [
    "# Display with where \n",
    "name = input(\"Name: \")\n",
    "cursor.execute(\"select * from student1 where name = ?\",(name,))\n",
    "student = cursor.fetchall()\n",
    "print(\"Student: \",student)"
   ]
  },
  {
   "cell_type": "code",
   "execution_count": null,
   "metadata": {},
   "outputs": [
    {
     "name": "stdout",
     "output_type": "stream",
     "text": [
      "After updating:  [(1, 'Abc', 'btech', 'pass'), (3, 'rugu', 'mba', 'pass')]\n"
     ]
    }
   ],
   "source": [
    "# Update \n",
    "\n",
    "name = input(\"Name: \")\n",
    "course = input(\"course: \")\n",
    "cursor.execute(\"update student1 set course = ? where name = ?\",(course,name))\n",
    "cursor.execute(\"Select * from student1\")\n",
    "student = cursor.fetchall()\n",
    "print(\"After updating: \",student)"
   ]
  },
  {
   "cell_type": "code",
   "execution_count": 15,
   "metadata": {},
   "outputs": [
    {
     "name": "stdout",
     "output_type": "stream",
     "text": [
      "after deleting:  [(3, 'rugu', 'mba', 'pass')]\n"
     ]
    }
   ],
   "source": [
    "# Delete\n",
    "name = input(\"name: \")\n",
    "cursor.execute(\"delete from student1 where name = ?\",(name,))\n",
    "cursor.execute(\"select * from student1\")\n",
    "student = cursor.fetchall()\n",
    "print(\"after deleting: \",student)\n"
   ]
  }
 ],
 "metadata": {
  "kernelspec": {
   "display_name": "base",
   "language": "python",
   "name": "python3"
  },
  "language_info": {
   "codemirror_mode": {
    "name": "ipython",
    "version": 3
   },
   "file_extension": ".py",
   "mimetype": "text/x-python",
   "name": "python",
   "nbconvert_exporter": "python",
   "pygments_lexer": "ipython3",
   "version": "3.9.13"
  }
 },
 "nbformat": 4,
 "nbformat_minor": 2
}
