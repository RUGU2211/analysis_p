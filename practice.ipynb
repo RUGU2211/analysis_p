{
 "cells": [
  {
   "cell_type": "code",
   "execution_count": 46,
   "id": "c1d7d9dc",
   "metadata": {},
   "outputs": [
    {
     "name": "stdout",
     "output_type": "stream",
     "text": [
      "5\n",
      "6\n",
      "add:  11\n",
      "sub:  -1\n",
      "mul:  30\n",
      "div:  0\n"
     ]
    }
   ],
   "source": [
    "# Arithmetic & operations\n",
    "a = int(input())\n",
    "b = int(input())\n",
    "\n",
    "print(\"add: \", (a + b))\n",
    "print(\"sub: \", (a - b))\n",
    "print(\"mul: \", (a * b))\n",
    "print(\"div: \", (a // b))                                                                                                                                                                                                                                                                                                                                                                                                                                                        "
   ]
  },
  {
   "cell_type": "code",
   "execution_count": 47,
   "id": "4dade6f2",
   "metadata": {},
   "outputs": [
    {
     "name": "stdout",
     "output_type": "stream",
     "text": [
      "hello, my name is rugu and i am 23 years old.\n"
     ]
    }
   ],
   "source": [
    "name = \"rugu\"\n",
    "age = 23\n",
    "\n",
    "print(\"hello, my name is\",name,\"and i am\",age,\"years old.\")"
   ]
  },
  {
   "cell_type": "code",
   "execution_count": 48,
   "id": "f4b69200",
   "metadata": {},
   "outputs": [
    {
     "name": "stdout",
     "output_type": "stream",
     "text": [
      "34 is greater than 10\n"
     ]
    }
   ],
   "source": [
    "#condition checking\n",
    "n = 34\n",
    "m = 10\n",
    "if n > m:\n",
    "    print(n,\"is greater than\",m)\n",
    "else:\n",
    "    print(n,\"is smaller than\",m)"
   ]
  },
  {
   "cell_type": "code",
   "execution_count": 49,
   "id": "30d739a1",
   "metadata": {},
   "outputs": [
    {
     "name": "stdout",
     "output_type": "stream",
     "text": [
      "h\n",
      "HELLO\n",
      "5\n"
     ]
    }
   ],
   "source": [
    "# String\n",
    "s = \"hello\"\n",
    "print(s[0])\n",
    "print(s.upper())\n",
    "print(len(s))"
   ]
  },
  {
   "cell_type": "code",
   "execution_count": 50,
   "id": "6d2ac1a7",
   "metadata": {},
   "outputs": [
    {
     "name": "stdout",
     "output_type": "stream",
     "text": [
      "[2, 3]\n",
      "[1, 2, 3, 4, 5, 'two', 4]\n"
     ]
    }
   ],
   "source": [
    "# list\n",
    "lst = [1,2,3,4,5,\"one\",\"two\"]\n",
    "lst.append(4)\n",
    "lst.remove(\"one\")\n",
    "print(lst[1:3]) \n",
    "print(lst)"
   ]
  },
  {
   "cell_type": "code",
   "execution_count": 51,
   "id": "9434a0ad",
   "metadata": {},
   "outputs": [
    {
     "name": "stdout",
     "output_type": "stream",
     "text": [
      "{1, 2, 3, 4, 5}\n",
      "{1, 2, 3, 4, 5, 8}\n"
     ]
    }
   ],
   "source": [
    "# sets\n",
    "s = {1,2,2,4,5,3}\n",
    "print(s)\n",
    "s.add(8)\n",
    "print(s)"
   ]
  },
  {
   "cell_type": "code",
   "execution_count": 52,
   "id": "6c5bd97c",
   "metadata": {},
   "outputs": [
    {
     "name": "stdout",
     "output_type": "stream",
     "text": [
      "23\n",
      "31\n"
     ]
    }
   ],
   "source": [
    "# Dictionaries\n",
    "d = {\"name\": \"rugu\", \"age\":\"23\"}\n",
    "print(d[\"age\"])\n",
    "d[\"age\"] = 31\n",
    "print(d[\"age\"])\n"
   ]
  },
  {
   "cell_type": "code",
   "execution_count": 53,
   "id": "6116dbe8",
   "metadata": {},
   "outputs": [
    {
     "name": "stdout",
     "output_type": "stream",
     "text": [
      "1\n"
     ]
    }
   ],
   "source": [
    "# tuple\n",
    "t = (1,2,3)\n",
    "print(t[0])"
   ]
  },
  {
   "cell_type": "code",
   "execution_count": 54,
   "id": "45077859",
   "metadata": {},
   "outputs": [
    {
     "name": "stdout",
     "output_type": "stream",
     "text": [
      "yth\n",
      "[1, 3, 5]\n"
     ]
    }
   ],
   "source": [
    "#slicing\n",
    "s = \"python\"\n",
    "print(s[1:4])\n",
    "\n",
    "lst = [1,2,3,4,5]\n",
    "print(lst[::2])"
   ]
  },
  {
   "cell_type": "code",
   "execution_count": 55,
   "id": "fbc9bb86",
   "metadata": {},
   "outputs": [
    {
     "name": "stdout",
     "output_type": "stream",
     "text": [
      "['There', 'are', '12', 'apples', 'and', '3', 'bananas']\n"
     ]
    }
   ],
   "source": [
    "# regex \n",
    "\n",
    "import regex as re\n",
    "pattern = r\"\\S+\"\n",
    "text = \"There are 12 apples and 3 bananas\"\n",
    "s = \"are\"\n",
    "print(re.findall(pattern, text)) #Returns all matches in a list\n",
    "# print(re.match(pattern ,text)) #Checks for a match at the beginning of the string\n",
    "# print(re.search(s,text)) #Searches for the first match anywhere in the string\n",
    "# print(re.finditer(s, text)) #Returns an iterator yielding match objects\n",
    "# print(re.sub(pattern,s,text))   #Substitutes matched patterns with a string"
   ]
  },
  {
   "cell_type": "code",
   "execution_count": 56,
   "id": "79f85a5e",
   "metadata": {},
   "outputs": [
    {
     "name": "stdout",
     "output_type": "stream",
     "text": [
      "abc@example.com\n",
      "['123-456-7890', '098-765-4321']\n",
      "My name is rugved\n",
      "found 100 at position 13\n",
      "found 20 at position 38\n",
      "Rugu 23\n",
      "GREAT\n"
     ]
    }
   ],
   "source": [
    "# regex example\n",
    "import regex as re\n",
    "\n",
    "\n",
    "# re.search() – First match anywhere\n",
    "text = \"Email me at abc@example.com\"\n",
    "match = re.search(r\"\\w+@\\w+\\.\\w+\",text)\n",
    "print(match.group())\n",
    "\n",
    "\n",
    "# re.findall() – Find all matches\n",
    "text = \"my number are 123-456-7890 and 098-765-4321\"\n",
    "number = re.findall(r\"\\d{3}-\\d{3}-\\d{4}\",text)\n",
    "print(number)\n",
    "\n",
    "\n",
    "# re.sub() – Replace pattern\n",
    "text = \"My name is Rugu\"\n",
    "new_text = re.sub(r\"Rugu\",\"rugved\", text)\n",
    "print(new_text)\n",
    "\n",
    "\n",
    "# Using re.finditer() to access Match Objects\n",
    "text = \"the price is 100, and the discount is 20\"\n",
    "matches = re.finditer(r\"\\d+\",text)\n",
    "for match in matches:\n",
    "    print(f\"found {match.group()} at position {match.start()}\")\n",
    "    \n",
    "\n",
    "#Grouping with ()\n",
    "text = \"Name: Rugu, Age: 23\"\n",
    "pattern = r\"Name: (\\w+), Age: (\\d+)\"\n",
    "match = re.search(pattern, text)\n",
    "print(match.group(1), match.group(2))\n",
    "\n",
    "\n",
    "#Flags in Regex (like case-insensitive)\n",
    "text = \"Python is GREAT\"\n",
    "match = re.search(r\"great\", text, re.IGNORECASE)\n",
    "print(match.group())"
   ]
  },
  {
   "cell_type": "code",
   "execution_count": 57,
   "id": "590bac47",
   "metadata": {},
   "outputs": [
    {
     "name": "stdout",
     "output_type": "stream",
     "text": [
      "hello, I'm Rugu\n",
      "Name: Rugu, Roll No: 101\n",
      "4\n",
      "Car has: 4 wheels\n",
      "speed cal: 180\n",
      "kilometer cal: 11.25\n",
      "balance in account is: 1000\n"
     ]
    }
   ],
   "source": [
    "\n",
    "# classes objects - \n",
    "# A class is a blueprint for creating objects.\n",
    "# It defines the properties (called attributes) and behaviors (called methods) an object can have.\n",
    "# Think of a class as a template, and objects as the actual instances of that template.\n",
    "\n",
    "\n",
    "\n",
    "#define class example - \n",
    "\n",
    "class person:\n",
    "    def __init__(self,name):\n",
    "        self.name = name\n",
    "        \n",
    "    def greet(self):\n",
    "        print(f\"hello, I'm {self.name}\")\n",
    "\n",
    "p = person(\"Rugu\")\n",
    "p.greet()\n",
    "\n",
    "\n",
    "\n",
    "# example\n",
    "class student:\n",
    "    def __init__(self, name, roll_no):\n",
    "        self.name = name\n",
    "        self.roll_no = roll_no\n",
    "    \n",
    "    def display_info(self):\n",
    "        print(f\"Name: {self.name}, Roll No: {self.roll_no}\")\n",
    "        \n",
    "              \n",
    "s = student(\"Rugu\", 101)\n",
    "s.display_info()\n",
    "\n",
    "\n",
    "\n",
    "# Instance vs class variable\n",
    "class car:\n",
    "    wheels = 4\n",
    "    def __init__(self,brand):\n",
    "        self.brand = brand\n",
    "        \n",
    "    def speed_cal(a,b):\n",
    "        return a * b\n",
    "\n",
    "    def kilo_cal(a,b):\n",
    "        return a / b\n",
    "    \n",
    "\n",
    "c1 = car(\"kia\")\n",
    "print(car.wheels)\n",
    "print(\"Car has:\",car.wheels,\"wheels\")\n",
    "print(\"speed cal:\",car.speed_cal(45, 4))\n",
    "print(\"kilometer cal:\",car.kilo_cal(45,4))\n",
    "\n",
    "\n",
    "\n",
    "class bankaccount:\n",
    "    def __init__(self,balance):\n",
    "        self._balance = balance\n",
    "        \n",
    "    def get_balance(self):\n",
    "        return self._balance\n",
    "\n",
    "acc = bankaccount(1000)\n",
    "print(\"balance in account is:\",acc.get_balance())\n",
    "\n",
    "\n",
    "\n",
    "\n"
   ]
  },
  {
   "cell_type": "code",
   "execution_count": 58,
   "id": "79a6baad",
   "metadata": {},
   "outputs": [
    {
     "name": "stdout",
     "output_type": "stream",
     "text": [
      "array: 3\n",
      "stack pop: 1 stack: [2, 3, 4]\n",
      "deque([1, 2, 3, 4])\n",
      "1\n"
     ]
    }
   ],
   "source": [
    "# user define datastructure\n",
    "\n",
    "import array as ar\n",
    "a = ar.array(\"i\",[1,2,3])\n",
    "print(\"array:\",a[2])\n",
    "\n",
    "\n",
    "# stack using list\n",
    "stack = []\n",
    "stack.append(1)\n",
    "stack.append(2)\n",
    "stack.append(3)\n",
    "stack.append(4)\n",
    "print(\"stack pop:\",stack.pop(0),\"stack:\",stack)\n",
    "\n",
    "\n",
    "# queue \n",
    "\n",
    "from collections import deque \n",
    "queue = deque([1,2,3])\n",
    "queue.append(4)\n",
    "print(queue)\n",
    "print(queue.popleft())"
   ]
  },
  {
   "cell_type": "code",
   "execution_count": 59,
   "id": "a5f59b19",
   "metadata": {},
   "outputs": [
    {
     "name": "stdout",
     "output_type": "stream",
     "text": [
      "[0, 5, 10, 15, 20, 25, 30, 35, 40, 45, 50, 55, 60, 65, 70, 75, 80, 85, 90, 95, 100]\n"
     ]
    }
   ],
   "source": [
    "# loops \n",
    "stack = []\n",
    "for i in range(101):\n",
    "    if i % 5 == 0:\n",
    "        stack.append(i)\n",
    "print(stack)"
   ]
  },
  {
   "cell_type": "code",
   "execution_count": 60,
   "id": "00a3b067",
   "metadata": {},
   "outputs": [
    {
     "name": "stdout",
     "output_type": "stream",
     "text": [
      "[0, 5, 10, 15, 20, 25, 30, 35, 40, 45, 50, 55, 60, 65, 70, 75, 80, 85, 90, 95, 100]\n"
     ]
    }
   ],
   "source": [
    "stack = []\n",
    "i = 0\n",
    "while i < 101:\n",
    "    if i % 5 == 0:\n",
    "        stack.append(i)\n",
    "    i += 1\n",
    "        \n",
    "print(stack)"
   ]
  },
  {
   "cell_type": "code",
   "execution_count": 61,
   "id": "a0b05709",
   "metadata": {},
   "outputs": [
    {
     "name": "stdout",
     "output_type": "stream",
     "text": [
      "0\n",
      "1\n",
      "3\n",
      "[0, 1, 4, 9, 16, 25, 36, 49, 64, 81, 100, 121, 144, 169, 196, 225, 256, 289, 324, 361, 400, 441, 484, 529, 576, 625, 676, 729, 784, 841, 900, 961, 1024, 1089, 1156, 1225, 1296, 1369, 1444, 1521, 1600, 1681, 1764, 1849, 1936, 2025, 2116, 2209, 2304, 2401, 2500, 2601, 2704, 2809, 2916, 3025, 3136, 3249, 3364, 3481, 3600, 3721, 3844, 3969, 4096, 4225, 4356, 4489, 4624, 4761, 4900, 5041, 5184, 5329, 5476, 5625, 5776, 5929, 6084, 6241, 6400, 6561, 6724, 6889, 7056, 7225, 7396, 7569, 7744, 7921, 8100, 8281, 8464, 8649, 8836, 9025, 9216, 9409, 9604, 9801, 10000]\n",
      "\n",
      "{0: 0, 1: 1, 2: 4, 3: 9, 4: 16}\n"
     ]
    }
   ],
   "source": [
    "for i in range(5):\n",
    "    if i == 2:\n",
    "        continue\n",
    "    if i == 4:\n",
    "        break\n",
    "    print(i)\n",
    "    \n",
    "    \n",
    "for i in range(3):\n",
    "    pass\n",
    "\n",
    "squares = [x ** 2 for x in range(101)]\n",
    "print(squares)\n",
    "\n",
    "print()\n",
    "squared_dict = {x: x**2 for x in range(5)}\n",
    "print(squared_dict)"
   ]
  },
  {
   "cell_type": "code",
   "execution_count": 62,
   "id": "0e899710",
   "metadata": {},
   "outputs": [
    {
     "name": "stdout",
     "output_type": "stream",
     "text": [
      "hello, world!\n",
      "8\n",
      "5\n",
      "10\n"
     ]
    }
   ],
   "source": [
    "# function \n",
    "\n",
    "def greet():\n",
    "    print(\"hello, world!\")\n",
    "\n",
    "greet()\n",
    "\n",
    "\n",
    "def add(a,b):\n",
    "    return a + b\n",
    "r = add(5,3)\n",
    "print(r)\n",
    "\n",
    "\n",
    "# scope \n",
    "x = 10  # global\n",
    "def my_fun():\n",
    "    x = 5\n",
    "    print(x) # local\n",
    "\n",
    "my_fun()\n",
    "print(x)"
   ]
  },
  {
   "cell_type": "code",
   "execution_count": 63,
   "id": "de95ac64",
   "metadata": {
    "scrolled": true
   },
   "outputs": [
    {
     "name": "stdout",
     "output_type": "stream",
     "text": [
      "rugu is 22 years old.\n",
      "rugved is 25 years old.\n",
      "\n",
      "Hello User\n",
      "\n",
      "10\n",
      "\n",
      "name: Rugu\n",
      "age: 22\n",
      "\n",
      "120\n",
      "\n",
      "25\n",
      "\n",
      "[1, 4, 9, 16]\n"
     ]
    }
   ],
   "source": [
    "# Function Arguments\n",
    "\n",
    "def greet(name, age):\n",
    "    print(f\"{name} is {age} years old.\")\n",
    "greet(\"rugu\", 22)\n",
    "\n",
    "greet(age=25, name=\"rugved\")\n",
    "\n",
    "\n",
    "print()\n",
    "def greet(name=\"User\"):\n",
    "    print(\"Hello\", name)\n",
    "greet()\n",
    "\n",
    "\n",
    "print()\n",
    "def add_all(*args):        # args is a tuple\n",
    "    return sum(args)\n",
    "\n",
    "print(add_all(1, 2, 3, 4))  # 10\n",
    "\n",
    "\n",
    "print()\n",
    "def display_info(**kwargs):\n",
    "    for key, value in kwargs.items():\n",
    "        print(f\"{key}: {value}\")\n",
    "\n",
    "display_info(name=\"Rugu\", age=22)\n",
    "\n",
    "print()\n",
    "def factorial(n):\n",
    "    if n == 1:\n",
    "        return 1\n",
    "    return n * factorial(n - 1)\n",
    "print(factorial(5))\n",
    "\n",
    "\n",
    "#Built-in Functional Tools\n",
    "print()\n",
    "square = lambda x: x*x\n",
    "print(square(5))\n",
    "\n",
    "\n",
    "print()\n",
    "nums = [1, 2, 3, 4]\n",
    "squared = list(map(lambda x: x ** 2, nums))\n",
    "print(squared)\n"
   ]
  },
  {
   "cell_type": "code",
   "execution_count": null,
   "id": "35ad5cd3",
   "metadata": {},
   "outputs": [],
   "source": []
  },
  {
   "cell_type": "code",
   "execution_count": null,
   "id": "300e0960",
   "metadata": {},
   "outputs": [],
   "source": []
  }
 ],
 "metadata": {
  "kernelspec": {
   "display_name": "Python 3 (ipykernel)",
   "language": "python",
   "name": "python3"
  },
  "language_info": {
   "codemirror_mode": {
    "name": "ipython",
    "version": 3
   },
   "file_extension": ".py",
   "mimetype": "text/x-python",
   "name": "python",
   "nbconvert_exporter": "python",
   "pygments_lexer": "ipython3",
   "version": "3.9.13"
  }
 },
 "nbformat": 4,
 "nbformat_minor": 5
}
