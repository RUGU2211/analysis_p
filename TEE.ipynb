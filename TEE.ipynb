{
 "cells": [
  {
   "cell_type": "code",
   "execution_count": 2,
   "id": "f3aed518",
   "metadata": {},
   "outputs": [
    {
     "name": "stdout",
     "output_type": "stream",
     "text": [
      "mul of 4:  12\n",
      "sub of 4:  10\n"
     ]
    }
   ],
   "source": [
    "#q1 A\n",
    "def mul(n):\n",
    "    return n*3\n",
    "def sub(n):\n",
    "    return mul(n)-2\n",
    "print(\"mul of 4: \",mul(4))\n",
    "print(\"sub of 4: \",sub(4))"
   ]
  },
  {
   "cell_type": "code",
   "execution_count": 3,
   "id": "6dc287ae",
   "metadata": {},
   "outputs": [
    {
     "name": "stdout",
     "output_type": "stream",
     "text": [
      "student with roll no multiple of 5:  [5, 10, 15, 20, 25, 30, 35, 40, 45, 50]\n"
     ]
    }
   ],
   "source": [
    "#q1 B\n",
    "roll_no = list(range(1,51))\n",
    "mul_of_5 = [roll for roll in roll_no if roll % 5 == 0]\n",
    "print(\"student with roll no multiple of 5: \",mul_of_5)"
   ]
  },
  {
   "cell_type": "code",
   "execution_count": 4,
   "id": "67fc5cea",
   "metadata": {
    "scrolled": true
   },
   "outputs": [
    {
     "data": {
      "image/png": "[encoded data removed]",
      "text/plain": [
       "<Figure size 640x480 with 1 Axes>"
      ]
     },
     "metadata": {},
     "output_type": "display_data"
    }
   ],
   "source": [
    "#q1 c scatter plot \n",
    "import matplotlib.pyplot as plt\n",
    "import numpy as np\n",
    "\n",
    "x = np.random.rand(50)\n",
    "y = np.random.rand(50)\n",
    "\n",
    "plt.scatter(x,y)\n",
    "plt.xlabel('Random Variable X')\n",
    "plt.ylabel('Random Variable Y')\n",
    "plt.title('Scatter Plot')\n",
    "plt.show()"
   ]
  },
  {
   "cell_type": "code",
   "execution_count": 5,
   "id": "4ffde9f3",
   "metadata": {},
   "outputs": [
    {
     "name": "stdout",
     "output_type": "stream",
     "text": [
      "['anagrams', 'anscombe', 'attention', 'brain_networks', 'car_crashes', 'diamonds', 'dots', 'dowjones', 'exercise', 'flights', 'fmri', 'geyser', 'glue', 'healthexp', 'iris', 'mpg', 'penguins', 'planets', 'seaice', 'taxis', 'tips', 'titanic', 'anagrams', 'anagrams', 'anscombe', 'anscombe', 'attention', 'attention', 'brain_networks', 'brain_networks', 'car_crashes', 'car_crashes', 'diamonds', 'diamonds', 'dots', 'dots', 'dowjones', 'dowjones', 'exercise', 'exercise', 'flights', 'flights', 'fmri', 'fmri', 'geyser', 'geyser', 'glue', 'glue', 'healthexp', 'healthexp', 'iris', 'iris', 'mpg', 'mpg', 'penguins', 'penguins', 'planets', 'planets', 'seaice', 'seaice', 'taxis', 'taxis', 'tips', 'tips', 'titanic', 'titanic', 'anagrams', 'anscombe', 'attention', 'brain_networks', 'car_crashes', 'diamonds', 'dots', 'dowjones', 'exercise', 'flights', 'fmri', 'geyser', 'glue', 'healthexp', 'iris', 'mpg', 'penguins', 'planets', 'seaice', 'taxis', 'tips', 'titanic']\n"
     ]
    },
    {
     "data": {
      "text/html": [
       "<div>\n",
       "<style scoped>\n",
       "    .dataframe tbody tr th:only-of-type {\n",
       "        vertical-align: middle;\n",
       "    }\n",
       "\n",
       "    .dataframe tbody tr th {\n",
       "        vertical-align: top;\n",
       "    }\n",
       "\n",
       "    .dataframe thead th {\n",
       "        text-align: right;\n",
       "    }\n",
       "</style>\n",
       "<table border=\"1\" class=\"dataframe\">\n",
       "  <thead>\n",
       "    <tr style=\"text-align: right;\">\n",
       "      <th></th>\n",
       "      <th>survived</th>\n",
       "      <th>pclass</th>\n",
       "      <th>sex</th>\n",
       "      <th>age</th>\n",
       "      <th>sibsp</th>\n",
       "      <th>parch</th>\n",
       "      <th>fare</th>\n",
       "      <th>embarked</th>\n",
       "      <th>class</th>\n",
       "      <th>who</th>\n",
       "      <th>adult_male</th>\n",
       "      <th>deck</th>\n",
       "      <th>embark_town</th>\n",
       "      <th>alive</th>\n",
       "      <th>alone</th>\n",
       "    </tr>\n",
       "  </thead>\n",
       "  <tbody>\n",
       "    <tr>\n",
       "      <th>0</th>\n",
       "      <td>0</td>\n",
       "      <td>3</td>\n",
       "      <td>male</td>\n",
       "      <td>22.0</td>\n",
       "      <td>1</td>\n",
       "      <td>0</td>\n",
       "      <td>7.2500</td>\n",
       "      <td>S</td>\n",
       "      <td>Third</td>\n",
       "      <td>man</td>\n",
       "      <td>True</td>\n",
       "      <td>NaN</td>\n",
       "      <td>Southampton</td>\n",
       "      <td>no</td>\n",
       "      <td>False</td>\n",
       "    </tr>\n",
       "    <tr>\n",
       "      <th>1</th>\n",
       "      <td>1</td>\n",
       "      <td>1</td>\n",
       "      <td>female</td>\n",
       "      <td>38.0</td>\n",
       "      <td>1</td>\n",
       "      <td>0</td>\n",
       "      <td>71.2833</td>\n",
       "      <td>C</td>\n",
       "      <td>First</td>\n",
       "      <td>woman</td>\n",
       "      <td>False</td>\n",
       "      <td>C</td>\n",
       "      <td>Cherbourg</td>\n",
       "      <td>yes</td>\n",
       "      <td>False</td>\n",
       "    </tr>\n",
       "    <tr>\n",
       "      <th>2</th>\n",
       "      <td>1</td>\n",
       "      <td>3</td>\n",
       "      <td>female</td>\n",
       "      <td>26.0</td>\n",
       "      <td>0</td>\n",
       "      <td>0</td>\n",
       "      <td>7.9250</td>\n",
       "      <td>S</td>\n",
       "      <td>Third</td>\n",
       "      <td>woman</td>\n",
       "      <td>False</td>\n",
       "      <td>NaN</td>\n",
       "      <td>Southampton</td>\n",
       "      <td>yes</td>\n",
       "      <td>True</td>\n",
       "    </tr>\n",
       "    <tr>\n",
       "      <th>3</th>\n",
       "      <td>1</td>\n",
       "      <td>1</td>\n",
       "      <td>female</td>\n",
       "      <td>35.0</td>\n",
       "      <td>1</td>\n",
       "      <td>0</td>\n",
       "      <td>53.1000</td>\n",
       "      <td>S</td>\n",
       "      <td>First</td>\n",
       "      <td>woman</td>\n",
       "      <td>False</td>\n",
       "      <td>C</td>\n",
       "      <td>Southampton</td>\n",
       "      <td>yes</td>\n",
       "      <td>False</td>\n",
       "    </tr>\n",
       "    <tr>\n",
       "      <th>4</th>\n",
       "      <td>0</td>\n",
       "      <td>3</td>\n",
       "      <td>male</td>\n",
       "      <td>35.0</td>\n",
       "      <td>0</td>\n",
       "      <td>0</td>\n",
       "      <td>8.0500</td>\n",
       "      <td>S</td>\n",
       "      <td>Third</td>\n",
       "      <td>man</td>\n",
       "      <td>True</td>\n",
       "      <td>NaN</td>\n",
       "      <td>Southampton</td>\n",
       "      <td>no</td>\n",
       "      <td>True</td>\n",
       "    </tr>\n",
       "    <tr>\n",
       "      <th>5</th>\n",
       "      <td>0</td>\n",
       "      <td>3</td>\n",
       "      <td>male</td>\n",
       "      <td>NaN</td>\n",
       "      <td>0</td>\n",
       "      <td>0</td>\n",
       "      <td>8.4583</td>\n",
       "      <td>Q</td>\n",
       "      <td>Third</td>\n",
       "      <td>man</td>\n",
       "      <td>True</td>\n",
       "      <td>NaN</td>\n",
       "      <td>Queenstown</td>\n",
       "      <td>no</td>\n",
       "      <td>True</td>\n",
       "    </tr>\n",
       "    <tr>\n",
       "      <th>6</th>\n",
       "      <td>0</td>\n",
       "      <td>1</td>\n",
       "      <td>male</td>\n",
       "      <td>54.0</td>\n",
       "      <td>0</td>\n",
       "      <td>0</td>\n",
       "      <td>51.8625</td>\n",
       "      <td>S</td>\n",
       "      <td>First</td>\n",
       "      <td>man</td>\n",
       "      <td>True</td>\n",
       "      <td>E</td>\n",
       "      <td>Southampton</td>\n",
       "      <td>no</td>\n",
       "      <td>True</td>\n",
       "    </tr>\n",
       "    <tr>\n",
       "      <th>7</th>\n",
       "      <td>0</td>\n",
       "      <td>3</td>\n",
       "      <td>male</td>\n",
       "      <td>2.0</td>\n",
       "      <td>3</td>\n",
       "      <td>1</td>\n",
       "      <td>21.0750</td>\n",
       "      <td>S</td>\n",
       "      <td>Third</td>\n",
       "      <td>child</td>\n",
       "      <td>False</td>\n",
       "      <td>NaN</td>\n",
       "      <td>Southampton</td>\n",
       "      <td>no</td>\n",
       "      <td>False</td>\n",
       "    </tr>\n",
       "    <tr>\n",
       "      <th>8</th>\n",
       "      <td>1</td>\n",
       "      <td>3</td>\n",
       "      <td>female</td>\n",
       "      <td>27.0</td>\n",
       "      <td>0</td>\n",
       "      <td>2</td>\n",
       "      <td>11.1333</td>\n",
       "      <td>S</td>\n",
       "      <td>Third</td>\n",
       "      <td>woman</td>\n",
       "      <td>False</td>\n",
       "      <td>NaN</td>\n",
       "      <td>Southampton</td>\n",
       "      <td>yes</td>\n",
       "      <td>False</td>\n",
       "    </tr>\n",
       "    <tr>\n",
       "      <th>9</th>\n",
       "      <td>1</td>\n",
       "      <td>2</td>\n",
       "      <td>female</td>\n",
       "      <td>14.0</td>\n",
       "      <td>1</td>\n",
       "      <td>0</td>\n",
       "      <td>30.0708</td>\n",
       "      <td>C</td>\n",
       "      <td>Second</td>\n",
       "      <td>child</td>\n",
       "      <td>False</td>\n",
       "      <td>NaN</td>\n",
       "      <td>Cherbourg</td>\n",
       "      <td>yes</td>\n",
       "      <td>False</td>\n",
       "    </tr>\n",
       "  </tbody>\n",
       "</table>\n",
       "</div>"
      ],
      "text/plain": [
       "   survived  pclass     sex   age  sibsp  parch     fare embarked   class  \\\n",
       "0         0       3    male  22.0      1      0   7.2500        S   Third   \n",
       "1         1       1  female  38.0      1      0  71.2833        C   First   \n",
       "2         1       3  female  26.0      0      0   7.9250        S   Third   \n",
       "3         1       1  female  35.0      1      0  53.1000        S   First   \n",
       "4         0       3    male  35.0      0      0   8.0500        S   Third   \n",
       "5         0       3    male   NaN      0      0   8.4583        Q   Third   \n",
       "6         0       1    male  54.0      0      0  51.8625        S   First   \n",
       "7         0       3    male   2.0      3      1  21.0750        S   Third   \n",
       "8         1       3  female  27.0      0      2  11.1333        S   Third   \n",
       "9         1       2  female  14.0      1      0  30.0708        C  Second   \n",
       "\n",
       "     who  adult_male deck  embark_town alive  alone  \n",
       "0    man        True  NaN  Southampton    no  False  \n",
       "1  woman       False    C    Cherbourg   yes  False  \n",
       "2  woman       False  NaN  Southampton   yes   True  \n",
       "3  woman       False    C  Southampton   yes  False  \n",
       "4    man        True  NaN  Southampton    no   True  \n",
       "5    man        True  NaN   Queenstown    no   True  \n",
       "6    man        True    E  Southampton    no   True  \n",
       "7  child       False  NaN  Southampton    no  False  \n",
       "8  woman       False  NaN  Southampton   yes  False  \n",
       "9  child       False  NaN    Cherbourg   yes  False  "
      ]
     },
     "execution_count": 5,
     "metadata": {},
     "output_type": "execute_result"
    }
   ],
   "source": [
    "#q1 d\n",
    "import seaborn as sns\n",
    "print(sns.get_dataset_names())\n",
    "titanic = sns.load_dataset('titanic')\n",
    "titanic.head(10)"
   ]
  },
  {
   "cell_type": "code",
   "execution_count": 13,
   "id": "d4de23c1",
   "metadata": {},
   "outputs": [
    {
     "data": {
      "text/plain": [
       "sex\n",
       "female    74.203822\n",
       "male      18.890815\n",
       "Name: survived, dtype: float64"
      ]
     },
     "execution_count": 13,
     "metadata": {},
     "output_type": "execute_result"
    }
   ],
   "source": [
    "#Titanic dataset – percentage of male and female survived\n",
    "titanic = sns.load_dataset('titanic')\n",
    "survival = titanic.groupby(['sex'])['survived'].mean()*100\n",
    "survival"
   ]
  },
  {
   "cell_type": "code",
   "execution_count": 14,
   "id": "ab042c08",
   "metadata": {},
   "outputs": [
    {
     "name": "stdout",
     "output_type": "stream",
     "text": [
      "SQlite version -  3.39.3\n"
     ]
    }
   ],
   "source": [
    "#e create sqlite DB and print version\n",
    "\n",
    "import sqlite3\n",
    "conn = sqlite3.connect('student.db')\n",
    "query = \"select sqlite_version();\"\n",
    "cursor = conn.cursor()\n",
    "cursor.execute(query)\n",
    "print(\"SQlite version - \",cursor.fetchone()[0])\n",
    "conn.close()\n",
    "\n"
   ]
  },
  {
   "cell_type": "code",
   "execution_count": 16,
   "id": "14815d31",
   "metadata": {},
   "outputs": [
    {
     "name": "stdout",
     "output_type": "stream",
     "text": [
      "A-4(57.14%)\n",
      "E-0(0.00%)\n",
      "I-2(28.57%)\n",
      "O-1(14.29%)\n",
      "U-0(0.00%)\n"
     ]
    }
   ],
   "source": [
    "#Q2 vowel frequency analysis\n",
    "\n",
    "def analyze_vowels(text):\n",
    "    vowels = 'aeiou'\n",
    "    text = text.lower()\n",
    "    vowel_freq = {v: 0 for v in vowels}\n",
    "    Total = 0\n",
    "\n",
    "    for char in text:\n",
    "        if char in vowels:\n",
    "            vowel_freq[char] += 1\n",
    "            Total += 1\n",
    "    \n",
    "    for v in vowel_freq:\n",
    "        percentage = (vowel_freq[v]/Total*100) if Total > 0 else 0\n",
    "        print(f\"{v.upper()}-{vowel_freq[v]}({percentage:.2f}%)\")\n",
    "\n",
    "text = \"Data Analysis with python\"\n",
    "analyze_vowels(text)"
   ]
  },
  {
   "cell_type": "code",
   "execution_count": null,
   "id": "d9aa8a69",
   "metadata": {},
   "outputs": [
    {
     "name": "stdout",
     "output_type": "stream",
     "text": [
      "All Employees:\n",
      "('Jhon', 'E001', 'HR', 'Manager', 50000, 'Active')\n",
      "('Alice', 'E002', 'Finance', 'Analyst', 60000, 'Active')\n",
      "('Bob', 'E003', 'IT', 'Developer', 70000, 'Inactive')\n",
      "('Emily', 'E004', 'Marketing', 'Coordinator', 55000, 'Active')\n",
      "('David', 'E005', 'Operations', 'Specialist', 65000, 'Inactive')\n",
      "\n",
      "Search Bob: ('Bob', 'E003', 'IT', 'Developer', 70000, 'Inactive')\n",
      "\n",
      "Updated Bob: ('Bob', 'E003', 'IT', 'Developer', 80000, 'Inactive')\n"
     ]
    }
   ],
   "source": [
    "#Q3\n",
    "\n",
    "import sqlite3\n",
    "\n",
    "# Connect and create DB\n",
    "conn = sqlite3.connect('employee.db')\n",
    "cursor = conn.cursor()\n",
    "\n",
    "# Create Table (fixed: added missing closing parenthesis)\n",
    "cursor.execute('''\n",
    "CREATE TABLE IF NOT EXISTS employees(\n",
    "    name TEXT,\n",
    "    emp_id TEXT,\n",
    "    department TEXT,\n",
    "    position TEXT,\n",
    "    salary INTEGER,\n",
    "    status TEXT CHECK(status IN ('Active', 'Inactive'))\n",
    ")\n",
    "''')\n",
    "\n",
    "# Insert data (fixed: remove wrong query tuple)\n",
    "data = [\n",
    "    ('Jhon', 'E001', 'HR', 'Manager', 50000, 'Active'),\n",
    "    ('Alice', 'E002', 'Finance', 'Analyst', 60000, 'Active'),\n",
    "    ('Bob', 'E003', 'IT', 'Developer', 70000, 'Inactive'),\n",
    "    ('Emily', 'E004', 'Marketing', 'Coordinator', 55000, 'Active'),\n",
    "    ('David', 'E005', 'Operations', 'Specialist', 65000, 'Inactive')\n",
    "]\n",
    "cursor.executemany('INSERT INTO employees VALUES (?, ?, ?, ?, ?, ?)', data)\n",
    "\n",
    "# Display all records (fixed: fetchmany needs a number or use fetchall)\n",
    "cursor.execute('SELECT * FROM employees')\n",
    "employee = cursor.fetchall()\n",
    "print(\"All Employees:\")\n",
    "for emp in employee:\n",
    "    print(emp)\n",
    "\n",
    "# Search for Bob\n",
    "cursor.execute(\"SELECT * FROM employees WHERE name = 'Bob' AND emp_id = 'E003'\")\n",
    "print(\"\\nSearch Bob:\", cursor.fetchone())\n",
    "\n",
    "# Update Bob's salary\n",
    "cursor.execute(\"UPDATE employees SET salary = 80000 WHERE name = 'Bob' AND emp_id = 'E003'\")\n",
    "conn.commit()\n",
    "\n",
    "# Confirm update\n",
    "cursor.execute(\"SELECT * FROM employees WHERE name = 'Bob'\")\n",
    "print(\"\\nUpdated Bob:\", cursor.fetchone())"
   ]
  },
  {
   "cell_type": "code",
   "execution_count": 25,
   "id": "c6c49d4b",
   "metadata": {},
   "outputs": [
    {
     "name": "stdout",
     "output_type": "stream",
     "text": [
      "Employee who played only 1 sport:\n",
      "    id name\n",
      "0   1    A\n",
      "1   2    B\n",
      "2   3    C\n",
      "3   4    D\n",
      "4   5    E\n",
      "city with max participation is:  delhi\n"
     ]
    }
   ],
   "source": [
    "#Q4 sport event participation\n",
    "\n",
    "import pandas as pd\n",
    "\n",
    "master_data = pd.DataFrame({\n",
    "    'id':[1,2,3,4,5,6],\n",
    "    'name':['A','B','C','D','E','F'],\n",
    "    'city':['mumbai','delhi','mumbai','chennai','delhi','mumbai'],\n",
    "    'sport1':[1,0,0,1,0,0],\n",
    "    'sport2':[0,1,0,0,1,0],\n",
    "    'sport3':[0,0,1,0,0,0]\n",
    "})\n",
    "\n",
    "# I. only one sport \n",
    "master_data['total'] = master_data[['sport1','sport2','sport3']].sum(axis=1)\n",
    "only_one_sport = master_data[master_data['total']==1][['id','name']]\n",
    "print(\"Employee who played only 1 sport:\\n\",only_one_sport)\n",
    "\n",
    "\n",
    "# II. city with max participation\n",
    "city_counts = master_data.groupby('city')[['sport1','sport2','sport3']].sum().sum(axis=1)\n",
    "print(\"city with max participation is: \",city_counts.idxmax())"
   ]
  },
  {
   "cell_type": "code",
   "execution_count": null,
   "id": "26146904",
   "metadata": {},
   "outputs": [
    {
     "name": "stdout",
     "output_type": "stream",
     "text": [
      "<class 'pandas.core.frame.DataFrame'>\n",
      "RangeIndex: 7253 entries, 0 to 7252\n",
      "Data columns (total 14 columns):\n",
      " #   Column             Non-Null Count  Dtype  \n",
      "---  ------             --------------  -----  \n",
      " 0   S.No.              7253 non-null   int64  \n",
      " 1   Name               7253 non-null   object \n",
      " 2   Location           7253 non-null   object \n",
      " 3   Year               7253 non-null   int64  \n",
      " 4   Kilometers_Driven  7253 non-null   int64  \n",
      " 5   Fuel_Type          7253 non-null   object \n",
      " 6   Transmission       7253 non-null   object \n",
      " 7   Owner_Type         7253 non-null   object \n",
      " 8   Mileage            7251 non-null   object \n",
      " 9   Engine             7207 non-null   object \n",
      " 10  Power              7207 non-null   object \n",
      " 11  Seats              7200 non-null   float64\n",
      " 12  New_Price          1006 non-null   object \n",
      " 13  Price              6019 non-null   float64\n",
      "dtypes: float64(2), int64(3), object(9)\n",
      "memory usage: 793.4+ KB\n"
     ]
    },
    {
     "data": {
      "text/plain": [
       "(7253, 14)"
      ]
     },
     "execution_count": 42,
     "metadata": {},
     "output_type": "execute_result"
    }
   ],
   "source": [
    "#Q5 Expore 'cars_data' datasets\n",
    "\n",
    "#part A Analyze\n",
    "cars = pd.read_csv('cars_data.csv')\n",
    "cars.info()\n",
    "cars.describe()\n",
    "cars.columns\n",
    "cars.shape"
   ]
  },
  {
   "cell_type": "code",
   "execution_count": 44,
   "id": "1fe8a26f",
   "metadata": {},
   "outputs": [
    {
     "name": "stdout",
     "output_type": "stream",
     "text": [
      "After cleaning:\n",
      "     S.No.                               Name Location  Year  \\\n",
      "2       2                       Honda Jazz V  Chennai  2011   \n",
      "7       7  Toyota Innova Crysta 2.8 GX AT 8S   Mumbai  2016   \n",
      "10     10                   Maruti Ciaz Zeta    Kochi  2018   \n",
      "15     15        Mitsubishi Pajero Sport 4X4    Delhi  2014   \n",
      "20     20                  BMW 3 Series 320d    Kochi  2014   \n",
      "\n",
      "    Kilometers_Driven Fuel_Type Transmission Owner_Type     Mileage   Engine  \\\n",
      "2               46000    Petrol       Manual      First   18.2 kmpl  1199 CC   \n",
      "7               36000    Diesel    Automatic      First  11.36 kmpl  2755 CC   \n",
      "10              25692    Petrol       Manual      First  21.56 kmpl  1462 CC   \n",
      "15             110000    Diesel       Manual      First   13.5 kmpl  2477 CC   \n",
      "20              32982    Diesel    Automatic      First  22.69 kmpl  1995 CC   \n",
      "\n",
      "         Power  Seats   New_Price  Price  \n",
      "2     88.7 bhp    5.0   8.61 Lakh   4.50  \n",
      "7    171.5 bhp    8.0     21 Lakh  17.50  \n",
      "10  103.25 bhp    5.0  10.65 Lakh   9.95  \n",
      "15  175.56 bhp    7.0  32.01 Lakh  15.00  \n",
      "20     190 bhp    5.0  47.87 Lakh  18.55  \n"
     ]
    }
   ],
   "source": [
    "#partB Data cleaning\n",
    "\n",
    "#checking null value \n",
    "cars.isnull().sum()\n",
    "\n",
    "\n",
    "# filling null values\n",
    "cars = cars.dropna()\n",
    "print(\"After cleaning:\\n\",cars.head())"
   ]
  },
  {
   "cell_type": "code",
   "execution_count": 49,
   "id": "bff5dd4c",
   "metadata": {},
   "outputs": [
    {
     "data": {
      "image/png": "[encoded data removed]",
      "text/plain": [
       "<Figure size 1000x600 with 6 Axes>"
      ]
     },
     "metadata": {},
     "output_type": "display_data"
    }
   ],
   "source": [
    "#Q6 a. Distribution and relationship\n",
    "\n",
    "import seaborn as sns\n",
    "import matplotlib.pyplot as plt\n",
    "\n",
    "#Histogram for numeric columns\n",
    "cars.hist(figsize=(10,6))\n",
    "plt.suptitle(\"Distributions of Features\")\n",
    "plt.show()"
   ]
  },
  {
   "cell_type": "code",
   "execution_count": 62,
   "id": "9e63f65b",
   "metadata": {},
   "outputs": [
    {
     "data": {
      "text/html": [
       "<div>\n",
       "<style scoped>\n",
       "    .dataframe tbody tr th:only-of-type {\n",
       "        vertical-align: middle;\n",
       "    }\n",
       "\n",
       "    .dataframe tbody tr th {\n",
       "        vertical-align: top;\n",
       "    }\n",
       "\n",
       "    .dataframe thead th {\n",
       "        text-align: right;\n",
       "    }\n",
       "</style>\n",
       "<table border=\"1\" class=\"dataframe\">\n",
       "  <thead>\n",
       "    <tr style=\"text-align: right;\">\n",
       "      <th></th>\n",
       "      <th>Price</th>\n",
       "    </tr>\n",
       "    <tr>\n",
       "      <th>Fuel_Type</th>\n",
       "      <th></th>\n",
       "    </tr>\n",
       "  </thead>\n",
       "  <tbody>\n",
       "    <tr>\n",
       "      <th>CNG</th>\n",
       "      <td>3.567778</td>\n",
       "    </tr>\n",
       "    <tr>\n",
       "      <th>Diesel</th>\n",
       "      <td>18.098375</td>\n",
       "    </tr>\n",
       "    <tr>\n",
       "      <th>Petrol</th>\n",
       "      <td>8.577601</td>\n",
       "    </tr>\n",
       "  </tbody>\n",
       "</table>\n",
       "</div>"
      ],
      "text/plain": [
       "               Price\n",
       "Fuel_Type           \n",
       "CNG         3.567778\n",
       "Diesel     18.098375\n",
       "Petrol      8.577601"
      ]
     },
     "execution_count": 62,
     "metadata": {},
     "output_type": "execute_result"
    }
   ],
   "source": [
    "#b. Pivlot Tables\n",
    "pivot = cars.pivot_table(values='Price', index='Fuel_Type', aggfunc='mean')\n",
    "pivot"
   ]
  },
  {
   "cell_type": "markdown",
   "id": "3f67fd1e",
   "metadata": {},
   "source": [
    "\n"
   ]
  },
  {
   "cell_type": "code",
   "execution_count": 61,
   "id": "7e78af1b",
   "metadata": {},
   "outputs": [
    {
     "data": {
      "image/png": "[encoded data removed]",
      "text/plain": [
       "<Figure size 640x480 with 1 Axes>"
      ]
     },
     "metadata": {},
     "output_type": "display_data"
    },
    {
     "data": {
      "image/png": "[encoded data removed]",
      "text/plain": [
       "<Figure size 640x480 with 1 Axes>"
      ]
     },
     "metadata": {},
     "output_type": "display_data"
    },
    {
     "name": "stdout",
     "output_type": "stream",
     "text": [
      "Bar plot shows which fuel type is most expensive on average.\n",
      "Line plot shows how price varies over years.\n"
     ]
    }
   ],
   "source": [
    "#Q7. Create Charts & validate results\n",
    "\n",
    "#Barplot\n",
    "\n",
    "sns.barplot(x='Fuel_Type',y='Price',data=cars)\n",
    "plt.title(\"Average price by fuel type\")\n",
    "plt.show()\n",
    "\n",
    "#Lineplot\n",
    "\n",
    "sns.lineplot(x='Year',y='Price',data=cars)\n",
    "plt.title(\"Average price by Fuel Type\")\n",
    "plt.show()\n",
    "\n",
    "# Observations\n",
    "print(\"Bar plot shows which fuel type is most expensive on average.\")\n",
    "print(\"Line plot shows how price varies over years.\")"
   ]
  },
  {
   "cell_type": "code",
   "execution_count": null,
   "id": "1b34afe2",
   "metadata": {},
   "outputs": [],
   "source": []
  },
  {
   "cell_type": "code",
   "execution_count": null,
   "id": "ae1a0187",
   "metadata": {},
   "outputs": [],
   "source": []
  },
  {
   "cell_type": "code",
   "execution_count": null,
   "id": "1749b2c2",
   "metadata": {},
   "outputs": [],
   "source": []
  }
 ],
 "metadata": {
  "kernelspec": {
   "display_name": "base",
   "language": "python",
   "name": "python3"
  },
  "language_info": {
   "codemirror_mode": {
    "name": "ipython",
    "version": 3
   },
   "file_extension": ".py",
   "mimetype": "text/x-python",
   "name": "python",
   "nbconvert_exporter": "python",
   "pygments_lexer": "ipython3",
   "version": "3.9.13"
  }
 },
 "nbformat": 4,
 "nbformat_minor": 5
}
