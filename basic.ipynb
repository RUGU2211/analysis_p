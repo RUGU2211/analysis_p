# Count Vowels in a String
def count_vowels(s):
    vowels = 'aeiouAEIOU'
    return sum(1 for char in s if char in vowels)

print(count_vowels("Hello World"))  # Output: 3
3




# Check if a Number is Armstrong
def is_armstrong(n):
    digits = str(n)
    power = len(digits)
    return n == sum(int(d)**power for d in digits)

print(is_armstrong(153))  # Output: True
True



# Check Palindrome (String/Number)

def is_palindrome(s):
    s = str(s)
    return s == s[::-1]

print(is_palindrome("madam"))  # Output: True
print(is_palindrome(121))     # Output: True
True
True



# Calculate Factorial

def factorial(n):
    result = 1
    for i in range(2, n+1):
        result *= i
    return result

print(factorial(5))  # Output: 120
120



# Fibonacci Series (First N Terms)

def fibonacci(n):
    a, b = 0, 1
    for _ in range(n):
        print(a, end=" ")
        a, b = b, a + b

fibonacci(7)  # Output: 0 1 1 2 3 5 8
0 1 1 2 3 5 8 



# Check Prime Number

def is_prime(n):
    if n < 2:
        return False
    for i in range(2, int(n**0.5)+1):
        if n % i == 0:
            return False
    return True

print(is_prime(17))  # Output: True
True




# Reverse a String

def reverse_string(s):
    return s[::-1]

print(reverse_string("Python"))  # Output: nohtyP
nohtyP



#  Sum of Digits of a Number

def sum_of_digits(n):
    return sum(int(d) for d in str(n))

print(sum_of_digits(1234))  # Output: 10
10
 
