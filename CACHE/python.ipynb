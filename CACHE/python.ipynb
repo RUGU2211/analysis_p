{
 "cells": [
  {
   "cell_type": "code",
   "execution_count": 10,
   "id": "93c47b20",
   "metadata": {},
   "outputs": [
    {
     "name": "stdout",
     "output_type": "stream",
     "text": [
      "Factorail of  5  is =  120\n"
     ]
    }
   ],
   "source": [
    "# factorial\n",
    "\n",
    "def factorial(num):\n",
    "    fact = 1\n",
    "    for i in range(1,num+1):\n",
    "        fact=fact*i\n",
    "    print(\"Factorail of \",num,\" is = \",fact)\n",
    "\n",
    "factorial(5)"
   ]
  },
  {
   "cell_type": "code",
   "execution_count": 12,
   "id": "629d63f0",
   "metadata": {},
   "outputs": [
    {
     "name": "stdout",
     "output_type": "stream",
     "text": [
      "Fibonacci series:\n",
      "0 1 1 2 3 5 8 13 21 34 "
     ]
    }
   ],
   "source": [
    "# fibonacci\n",
    "num = int(input(\"How many numbers? \"))\n",
    "\n",
    "n1, n2 = 0, 1\n",
    "count = 0\n",
    "\n",
    "if num <= 0:\n",
    "    print(\"Invalid input 0\")\n",
    "elif num == 1:\n",
    "    print(\"Fibonacci series: 0\")\n",
    "else:\n",
    "    print(\"Fibonacci series:\")\n",
    "    while count < num:\n",
    "        print(n1, end=\" \")\n",
    "        n3 = n1 + n2\n",
    "        n1 = n2\n",
    "        n2 = n3\n",
    "        count += 1\n"
   ]
  },
  {
   "cell_type": "code",
   "execution_count": 12,
   "id": "9f7e8ee2",
   "metadata": {},
   "outputs": [
    {
     "name": "stdout",
     "output_type": "stream",
     "text": [
      "{'a': 0, 'e': 1, 'i': 1, 'o': 5, 'u': 0}\n",
      "7\n",
      "a : 0.00 %\n",
      "e : 14.29 %\n",
      "i : 14.29 %\n",
      "o : 71.43 %\n",
      "u : 0.00 %\n"
     ]
    }
   ],
   "source": [
    "# vowel dictionary\n",
    "str = \"hello world, good morning\"\n",
    "voweldict = {\"a\":0,\"e\":0,\"i\":0,\"o\":0,\"u\":0}\n",
    "for i in str:\n",
    "    if i in voweldict:\n",
    "        voweldict[i]+=1\n",
    "print(voweldict)\n",
    "\n",
    "totalv = sum(voweldict.values())\n",
    "print(totalv)\n",
    "for k,v in voweldict.items():\n",
    "    print(f\"{k} : {(v/totalv)*100:.2f} %\")\n"
   ]
  },
  {
   "cell_type": "code",
   "execution_count": 16,
   "id": "14ffde04",
   "metadata": {},
   "outputs": [
    {
     "name": "stdout",
     "output_type": "stream",
     "text": [
      "h - *\n",
      "e - *\n",
      "l - **\n",
      "o - *\n"
     ]
    }
   ],
   "source": [
    "# print histogram of frequencies\n",
    "str = input(\"enter string\")\n",
    "for i,word in enumerate(str):\n",
    "    if str[:i].count(word)==0:\n",
    "        freq = str.count(word)\n",
    "        print(word,\"-\",\"*\"*freq)\n"
   ]
  },
  {
   "cell_type": "code",
   "execution_count": 1,
   "id": "479738e5",
   "metadata": {},
   "outputs": [
    {
     "name": "stdout",
     "output_type": "stream",
     "text": [
      "zbcxya\n"
     ]
    }
   ],
   "source": [
    "# change first and last     \n",
    "name = \"abcxyz\"\n",
    "f = name[0]\n",
    "l = name[-1]\n",
    "print(l+name[1:-1]+f)"
   ]
  },
  {
   "cell_type": "code",
   "execution_count": 27,
   "id": "e3ee4511",
   "metadata": {},
   "outputs": [
    {
     "name": "stdout",
     "output_type": "stream",
     "text": [
      "[95, 90, 85, 80, 75]\n",
      "Second Highest marks -  90\n",
      "Second Lowest marks -  80\n"
     ]
    }
   ],
   "source": [
    "# math mark teacher\n",
    "math = [85,90,75,80,95]\n",
    "math.sort(reverse=True)\n",
    "sh = math[1]\n",
    "sl = math[-2]\n",
    "print(math)\n",
    "print(\"Second Highest marks - \",sh)\n",
    "print(\"Second Lowest marks - \",sl)"
   ]
  },
  {
   "cell_type": "code",
   "execution_count": 28,
   "id": "65919423",
   "metadata": {},
   "outputs": [
    {
     "name": "stdout",
     "output_type": "stream",
     "text": [
      "5\n",
      "10\n",
      "15\n",
      "65\n",
      "50\n",
      "25\n"
     ]
    }
   ],
   "source": [
    "# mul of 5\n",
    "roll = [5,10,15,24,65,12,13,6,50,25]\n",
    "for i in roll:\n",
    "    if i%5==0:\n",
    "        print(i) "
   ]
  },
  {
   "cell_type": "code",
   "execution_count": 33,
   "id": "34200eac",
   "metadata": {},
   "outputs": [
    {
     "name": "stdout",
     "output_type": "stream",
     "text": [
      "No\n"
     ]
    }
   ],
   "source": [
    "num = input(\"Enter number that consist only 0 and 1\")\n",
    "count_0 = num.count('0')\n",
    "count_1 = num.count('1')\n",
    "\n",
    "result = \"yes\" if count_0 == 1 or count_1==1 else\"No\"\n",
    "print(result)\n"
   ]
  },
  {
   "cell_type": "code",
   "execution_count": 35,
   "id": "571a1f76",
   "metadata": {},
   "outputs": [
    {
     "name": "stdout",
     "output_type": "stream",
     "text": [
      "3\n",
      "3\n",
      "4\n"
     ]
    }
   ],
   "source": [
    "nametup = (\"abc\",\"xyz\",\"pqrs\")\n",
    "for i in nametup:\n",
    "    print(len(i))"
   ]
  },
  {
   "cell_type": "code",
   "execution_count": 41,
   "id": "b88e7190",
   "metadata": {},
   "outputs": [
    {
     "name": "stdout",
     "output_type": "stream",
     "text": [
      "{'abc': 70, 'xyz': 80, 'pqr': 90}\n"
     ]
    }
   ],
   "source": [
    "name = [\"abc\",\"xyz\",\"pqr\"]\n",
    "marks = [70,80,90]\n",
    "nmdict={}\n",
    "for n,m in zip(name,marks):\n",
    "    nmdict[n]=m\n",
    "print(nmdict)"
   ]
  },
  {
   "cell_type": "code",
   "execution_count": 45,
   "id": "e65d74e0",
   "metadata": {},
   "outputs": [
    {
     "name": "stdout",
     "output_type": "stream",
     "text": [
      "union of s1 and s2 {1, 2, 4, 6, 8, 9, 10, 12, 14, 16, 18, 20, 22, 24, 25, 26, 28, 30, 32, 34, 36, 38, 40, 42, 44, 46, 48, 49, 50, 52, 54, 56, 58, 60, 62, 64, 66, 68, 70, 72, 74, 76, 78, 80, 81, 82, 84, 86, 88, 90, 92, 94, 96, 98, 100}\n",
      "diffrence of s1 and s2 {2, 6, 8, 10, 12, 14, 18, 20, 22, 24, 26, 28, 30, 32, 34, 38, 40, 42, 44, 46, 48, 50, 52, 54, 56, 58, 60, 62, 66, 68, 70, 72, 74, 76, 78, 80, 82, 84, 86, 88, 90, 92, 94, 96, 98}\n",
      "intersection of s1 and s2 {64, 100, 4, 36, 16}\n"
     ]
    }
   ],
   "source": [
    "# sets\n",
    "s1 = set()\n",
    "s2 = set()\n",
    "for i in range(1,101):\n",
    "    if i%2==0:\n",
    "        s1.add(i)\n",
    "\n",
    "for i in range(1,11):\n",
    "    sq = i*i\n",
    "    s2.add(sq)\n",
    "\n",
    "print(\"union of s1 and s2\",s1.union(s2))\n",
    "print(\"diffrence of s1 and s2\",s1.difference(s2))\n",
    "print(\"intersection of s1 and s2\",s1.intersection(s2))"
   ]
  },
  {
   "cell_type": "code",
   "execution_count": 46,
   "id": "8bf4fc35",
   "metadata": {},
   "outputs": [
    {
     "name": "stdout",
     "output_type": "stream",
     "text": [
      "Positive 6\n",
      "Negative 4\n"
     ]
    }
   ],
   "source": [
    "# count +ve and -ve in list\n",
    "l = [5,-2,8,-3,1,-1,3,2,9,-7]\n",
    "cp=0\n",
    "cn=0\n",
    "for i in l:\n",
    "    if(i<=0):\n",
    "        cn+=1\n",
    "    else:\n",
    "        cp+=1\n",
    "print(\"Positive\",cp)\n",
    "print(\"Negative\",cn)\n"
   ]
  },
  {
   "cell_type": "code",
   "execution_count": 52,
   "id": "29006fe2",
   "metadata": {},
   "outputs": [
    {
     "name": "stdout",
     "output_type": "stream",
     "text": [
      "xyzc\n",
      "pqrs\n"
     ]
    }
   ],
   "source": [
    "# find word longer then n\n",
    "names = [\"abc\",\"xyzc\",\"pqrs\",\"mno\"]\n",
    "n = int(input(\"enter n\"))\n",
    "for nm in names:\n",
    "    if (len(nm)>n):\n",
    "        print(nm)\n"
   ]
  },
  {
   "cell_type": "code",
   "execution_count": 53,
   "id": "03ee5164",
   "metadata": {},
   "outputs": [
    {
     "name": "stdout",
     "output_type": "stream",
     "text": [
      "[10, 11, 12]\n"
     ]
    }
   ],
   "source": [
    "l = [[1,2,3],[4,5,6],[7,8,9],[10,11,12]]\n",
    "maxl = max(l,key=sum)\n",
    "print(maxl)"
   ]
  },
  {
   "cell_type": "code",
   "execution_count": null,
   "id": "e69ebb85",
   "metadata": {},
   "outputs": [
    {
     "data": {
      "text/plain": [
       "13"
      ]
     },
     "execution_count": 56,
     "metadata": {},
     "output_type": "execute_result"
    }
   ],
   "source": [
    "# mul and sub function\n",
    "num = int(input(\"Enter number : \"))\n",
    "\n",
    "def mul(num):\n",
    "    return num*3\n",
    "\n",
    "def sub(num):\n",
    "    n = mul(num)\n",
    "    return n-2\n",
    "\n",
    "sub(num)\n"
   ]
  },
  {
   "cell_type": "code",
   "execution_count": 60,
   "id": "69f250d3",
   "metadata": {},
   "outputs": [
    {
     "name": "stdout",
     "output_type": "stream",
     "text": [
      "1 abc\n",
      "5 xyz\n"
     ]
    }
   ],
   "source": [
    "# default value in constructor\n",
    "def student(std=\"1\",sn=\"abc\"):\n",
    "    print(std,sn)\n",
    "student()\n",
    "student(5,\"xyz\")"
   ]
  },
  {
   "cell_type": "code",
   "execution_count": 63,
   "id": "d2d7400a",
   "metadata": {},
   "outputs": [
    {
     "name": "stdout",
     "output_type": "stream",
     "text": [
      "[2.0, 3.0, 4.0, 5.0]\n"
     ]
    }
   ],
   "source": [
    "import math\n",
    "sq = [4,9,16,25]\n",
    "l = [math.sqrt(i) for i in sq]\n",
    "print(l)"
   ]
  },
  {
   "cell_type": "code",
   "execution_count": 72,
   "id": "bca53965",
   "metadata": {},
   "outputs": [
    {
     "name": "stdout",
     "output_type": "stream",
     "text": [
      "Name- john  :  Marks- 86.5\n",
      "Name- jack  :  Marks- 91.2\n",
      "Name- jill  :  Marks- 84.5\n",
      "Name- harry  :  Marks- 72.1\n",
      "Name- joe  :  Marks- 80.5\n",
      "Top two scores\n",
      "Name- jack  :  Marks- 91.2\n",
      "None\n",
      "Name- john  :  Marks- 86.5\n",
      "None\n",
      "82.96\n"
     ]
    }
   ],
   "source": [
    "# i)\n",
    "student = {\"john\":86.5,\"jack\":91.2,\"jill\":84.5,\"harry\":72.1,\"joe\":80.5}\n",
    "for n,m in student.items():\n",
    "    print(\"Name-\",n,\" : \",\"Marks-\",m)\n",
    "\n",
    "# ii) \n",
    "def get_marks(i):\n",
    "    return i[1]\n",
    "sl = list(student.items())\n",
    "sl.sort(key=get_marks,reverse=True)\n",
    "\n",
    "print(\"Top two scores\")\n",
    "for n,m in sl[:2]:\n",
    "    print(print(\"Name-\",n,\" : \",\"Marks-\",m)) \n",
    "# iii)\n",
    "avg=0\n",
    "for i in student:\n",
    "    avg += student[i]\n",
    "print(avg/len(student)) "
   ]
  },
  {
   "cell_type": "code",
   "execution_count": 83,
   "id": "cb5aa9e6",
   "metadata": {},
   "outputs": [
    {
     "name": "stdout",
     "output_type": "stream",
     "text": [
      "Python course 4\n",
      "Python course {'Jake', 'John', 'Eric', 'Jill'}\n",
      "Java course only 2\n",
      "Java course only {'Jack', 'Joe'}\n",
      "Python course only 2\n",
      "Python course only {'Jake', 'Eric'}\n",
      "Both Java and Python  2\n",
      "Both Java and Python  {'John', 'Jill'}\n",
      "either java or python but not both {'Jack', 'Eric', 'Jake', 'Joe'}\n",
      "Both Java and Python  6\n",
      "Both Java and Python  {'Jill', 'Jake', 'John', 'Eric', 'Jack', 'Joe'}\n"
     ]
    }
   ],
   "source": [
    "java_course = {\"John\", \"Jack\", \"Jill\", \"Joe\"}\n",
    "python_course = {\"Jake\", \"John\", \"Eric\", \"Jill\"}\n",
    "\n",
    "# i) \n",
    "print(\"Python course\",len(python_course))\n",
    "print(\"Python course\",python_course)\n",
    "\n",
    "# ii) \n",
    "print(\"Java course only\",len(java_course.difference(python_course)))\n",
    "print(\"Java course only\",java_course.difference(python_course))\n",
    "\n",
    "# iii) \n",
    "print(\"Python course only\",len(python_course.difference(java_course)))\n",
    "print(\"Python course only\",python_course.difference(java_course))\n",
    "\n",
    "# iv) \n",
    "print(\"Both Java and Python \",len(python_course.intersection(java_course)))\n",
    "print(\"Both Java and Python \",python_course.intersection(java_course))\n",
    "\n",
    "# v)\n",
    "oj = java_course.difference(python_course)\n",
    "op = python_course.difference(java_course)\n",
    "print(\"either java or python but not both\",oj.union(op))\n",
    "\n",
    "# vi)\n",
    "print(\"Both Java and Python \",len(python_course.union(java_course)))\n",
    "print(\"Both Java and Python \",python_course.union(java_course))"
   ]
  },
  {
   "cell_type": "code",
   "execution_count": null,
   "id": "a1102463",
   "metadata": {},
   "outputs": [
    {
     "name": "stdout",
     "output_type": "stream",
     "text": [
      "1    A\n",
      "2    B\n",
      "3    C\n",
      "4    D\n",
      "dtype: object\n"
     ]
    }
   ],
   "source": [
    "# with list\n",
    "import numpy as np\n",
    "import pandas as pd\n",
    "\n",
    "a = [\"A\",\"B\",\"C\",\"D\"]\n",
    "b = [1,2,3,4]\n",
    "ls = pd.Series(a,index=b)\n",
    "print(s)"
   ]
  },
  {
   "cell_type": "code",
   "execution_count": 90,
   "id": "a1b3bab8",
   "metadata": {},
   "outputs": [
    {
     "name": "stdout",
     "output_type": "stream",
     "text": [
      "A    1\n",
      "B    2\n",
      "C    3\n",
      "D    4\n",
      "E    5\n",
      "dtype: int64\n"
     ]
    }
   ],
   "source": [
    "# with dictionary\n",
    "a = {\"A\":1,\"B\":2,\"C\":3,\"D\":4,\"E\":5}\n",
    "ds = pd.Series(a)\n",
    "print(ds)"
   ]
  },
  {
   "cell_type": "code",
   "execution_count": null,
   "id": "083e6de7",
   "metadata": {},
   "outputs": [
    {
     "name": "stdout",
     "output_type": "stream",
     "text": [
      "[10 20 30 40 50]\n"
     ]
    },
    {
     "data": {
      "text/plain": [
       "np.int64(150)"
      ]
     },
     "execution_count": 92,
     "metadata": {},
     "output_type": "execute_result"
    }
   ],
   "source": [
    "# numpy array\n",
    "na = np.array([10,20,30,40,50])\n",
    "print(na)"
   ]
  },
  {
   "cell_type": "code",
   "execution_count": 94,
   "id": "1a90f4ba",
   "metadata": {},
   "outputs": [
    {
     "data": {
      "text/html": [
       "<div>\n",
       "<style scoped>\n",
       "    .dataframe tbody tr th:only-of-type {\n",
       "        vertical-align: middle;\n",
       "    }\n",
       "\n",
       "    .dataframe tbody tr th {\n",
       "        vertical-align: top;\n",
       "    }\n",
       "\n",
       "    .dataframe thead th {\n",
       "        text-align: right;\n",
       "    }\n",
       "</style>\n",
       "<table border=\"1\" class=\"dataframe\">\n",
       "  <thead>\n",
       "    <tr style=\"text-align: right;\">\n",
       "      <th></th>\n",
       "      <th>Name</th>\n",
       "      <th>age</th>\n",
       "    </tr>\n",
       "  </thead>\n",
       "  <tbody>\n",
       "    <tr>\n",
       "      <th>0</th>\n",
       "      <td>abc</td>\n",
       "      <td>10</td>\n",
       "    </tr>\n",
       "    <tr>\n",
       "      <th>1</th>\n",
       "      <td>xyz</td>\n",
       "      <td>20</td>\n",
       "    </tr>\n",
       "    <tr>\n",
       "      <th>2</th>\n",
       "      <td>pqr</td>\n",
       "      <td>30</td>\n",
       "    </tr>\n",
       "  </tbody>\n",
       "</table>\n",
       "</div>"
      ],
      "text/plain": [
       "  Name  age\n",
       "0  abc   10\n",
       "1  xyz   20\n",
       "2  pqr   30"
      ]
     },
     "execution_count": 94,
     "metadata": {},
     "output_type": "execute_result"
    }
   ],
   "source": [
    "data = {\"Name\":[\"abc\",\"xyz\",\"pqr\"],\"age\":[10,20,30]}\n",
    "df1 = pd.DataFrame(data)\n",
    "df1"
   ]
  },
  {
   "cell_type": "code",
   "execution_count": 96,
   "id": "0a87b7f1",
   "metadata": {},
   "outputs": [
    {
     "data": {
      "text/html": [
       "<div>\n",
       "<style scoped>\n",
       "    .dataframe tbody tr th:only-of-type {\n",
       "        vertical-align: middle;\n",
       "    }\n",
       "\n",
       "    .dataframe tbody tr th {\n",
       "        vertical-align: top;\n",
       "    }\n",
       "\n",
       "    .dataframe thead th {\n",
       "        text-align: right;\n",
       "    }\n",
       "</style>\n",
       "<table border=\"1\" class=\"dataframe\">\n",
       "  <thead>\n",
       "    <tr style=\"text-align: right;\">\n",
       "      <th></th>\n",
       "      <th>Name</th>\n",
       "      <th>Age</th>\n",
       "    </tr>\n",
       "  </thead>\n",
       "  <tbody>\n",
       "    <tr>\n",
       "      <th>1</th>\n",
       "      <td>Abc</td>\n",
       "      <td>10</td>\n",
       "    </tr>\n",
       "    <tr>\n",
       "      <th>2</th>\n",
       "      <td>Xyz</td>\n",
       "      <td>20</td>\n",
       "    </tr>\n",
       "    <tr>\n",
       "      <th>3</th>\n",
       "      <td>Pqr</td>\n",
       "      <td>30</td>\n",
       "    </tr>\n",
       "  </tbody>\n",
       "</table>\n",
       "</div>"
      ],
      "text/plain": [
       "  Name  Age\n",
       "1  Abc   10\n",
       "2  Xyz   20\n",
       "3  Pqr   30"
      ]
     },
     "execution_count": 96,
     "metadata": {},
     "output_type": "execute_result"
    }
   ],
   "source": [
    "data = [\n",
    "    {\"Name\":\"Abc\",\"Age\":10},\n",
    "    {\"Name\":\"Xyz\",\"Age\":20},\n",
    "    {\"Name\":\"Pqr\",\"Age\":30}\n",
    "]\n",
    "df2 = pd.DataFrame(data,index = [1,2,3])\n",
    "df2"
   ]
  },
  {
   "cell_type": "code",
   "execution_count": 1,
   "id": "b8ad49d7",
   "metadata": {},
   "outputs": [
    {
     "ename": "NameError",
     "evalue": "name 'pd' is not defined",
     "output_type": "error",
     "traceback": [
      "\u001b[1;31m---------------------------------------------------------------------------\u001b[0m",
      "\u001b[1;31mNameError\u001b[0m                                 Traceback (most recent call last)",
      "Cell \u001b[1;32mIn[1], line 6\u001b[0m\n\u001b[0;32m      1\u001b[0m data2 \u001b[38;5;241m=\u001b[39m {\n\u001b[0;32m      2\u001b[0m     \u001b[38;5;124m'\u001b[39m\u001b[38;5;124mStore\u001b[39m\u001b[38;5;124m'\u001b[39m: [\u001b[38;5;124m'\u001b[39m\u001b[38;5;124mA\u001b[39m\u001b[38;5;124m'\u001b[39m, \u001b[38;5;124m'\u001b[39m\u001b[38;5;124mB\u001b[39m\u001b[38;5;124m'\u001b[39m, \u001b[38;5;124m'\u001b[39m\u001b[38;5;124mA\u001b[39m\u001b[38;5;124m'\u001b[39m, \u001b[38;5;124m'\u001b[39m\u001b[38;5;124mB\u001b[39m\u001b[38;5;124m'\u001b[39m, \u001b[38;5;124m'\u001b[39m\u001b[38;5;124mA\u001b[39m\u001b[38;5;124m'\u001b[39m, \u001b[38;5;124m'\u001b[39m\u001b[38;5;124mB\u001b[39m\u001b[38;5;124m'\u001b[39m],\n\u001b[0;32m      3\u001b[0m     \u001b[38;5;124m'\u001b[39m\u001b[38;5;124mMonth\u001b[39m\u001b[38;5;124m'\u001b[39m: [\u001b[38;5;124m'\u001b[39m\u001b[38;5;124mJan\u001b[39m\u001b[38;5;124m'\u001b[39m, \u001b[38;5;124m'\u001b[39m\u001b[38;5;124mJan\u001b[39m\u001b[38;5;124m'\u001b[39m, \u001b[38;5;124m'\u001b[39m\u001b[38;5;124mFeb\u001b[39m\u001b[38;5;124m'\u001b[39m, \u001b[38;5;124m'\u001b[39m\u001b[38;5;124mFeb\u001b[39m\u001b[38;5;124m'\u001b[39m, \u001b[38;5;124m'\u001b[39m\u001b[38;5;124mMar\u001b[39m\u001b[38;5;124m'\u001b[39m, \u001b[38;5;124m'\u001b[39m\u001b[38;5;124mMar\u001b[39m\u001b[38;5;124m'\u001b[39m],\n\u001b[0;32m      4\u001b[0m     \u001b[38;5;124m'\u001b[39m\u001b[38;5;124mSales\u001b[39m\u001b[38;5;124m'\u001b[39m: [\u001b[38;5;241m100\u001b[39m, \u001b[38;5;241m150\u001b[39m, \u001b[38;5;241m200\u001b[39m, \u001b[38;5;241m250\u001b[39m, \u001b[38;5;241m300\u001b[39m, \u001b[38;5;241m350\u001b[39m]\n\u001b[0;32m      5\u001b[0m }\n\u001b[1;32m----> 6\u001b[0m df2 \u001b[38;5;241m=\u001b[39m \u001b[43mpd\u001b[49m\u001b[38;5;241m.\u001b[39mDataFrame(data2)\n",
      "\u001b[1;31mNameError\u001b[0m: name 'pd' is not defined"
     ]
    }
   ],
   "source": [
    "data2 = {\n",
    "    'Store': ['A', 'B', 'A', 'B', 'A', 'B'],\n",
    "    'Month': ['Jan', 'Jan', 'Feb', 'Feb', 'Mar', 'Mar'],\n",
    "    'Sales': [100, 150, 200, 250, 300, 350]\n",
    "}\n",
    "df2 = pd.DataFrame(data2)"
   ]
  },
  {
   "cell_type": "code",
   "execution_count": 102,
   "id": "691cd9ea",
   "metadata": {},
   "outputs": [
    {
     "data": {
      "text/html": [
       "<div>\n",
       "<style scoped>\n",
       "    .dataframe tbody tr th:only-of-type {\n",
       "        vertical-align: middle;\n",
       "    }\n",
       "\n",
       "    .dataframe tbody tr th {\n",
       "        vertical-align: top;\n",
       "    }\n",
       "\n",
       "    .dataframe thead th {\n",
       "        text-align: right;\n",
       "    }\n",
       "</style>\n",
       "<table border=\"1\" class=\"dataframe\">\n",
       "  <thead>\n",
       "    <tr style=\"text-align: right;\">\n",
       "      <th></th>\n",
       "      <th></th>\n",
       "      <th>sum</th>\n",
       "    </tr>\n",
       "    <tr>\n",
       "      <th>Month</th>\n",
       "      <th>Store</th>\n",
       "      <th></th>\n",
       "    </tr>\n",
       "  </thead>\n",
       "  <tbody>\n",
       "    <tr>\n",
       "      <th rowspan=\"2\" valign=\"top\">Feb</th>\n",
       "      <th>A</th>\n",
       "      <td>200</td>\n",
       "    </tr>\n",
       "    <tr>\n",
       "      <th>B</th>\n",
       "      <td>250</td>\n",
       "    </tr>\n",
       "    <tr>\n",
       "      <th rowspan=\"2\" valign=\"top\">Jan</th>\n",
       "      <th>A</th>\n",
       "      <td>100</td>\n",
       "    </tr>\n",
       "    <tr>\n",
       "      <th>B</th>\n",
       "      <td>150</td>\n",
       "    </tr>\n",
       "    <tr>\n",
       "      <th rowspan=\"2\" valign=\"top\">Mar</th>\n",
       "      <th>A</th>\n",
       "      <td>300</td>\n",
       "    </tr>\n",
       "    <tr>\n",
       "      <th>B</th>\n",
       "      <td>350</td>\n",
       "    </tr>\n",
       "  </tbody>\n",
       "</table>\n",
       "</div>"
      ],
      "text/plain": [
       "             sum\n",
       "Month Store     \n",
       "Feb   A      200\n",
       "      B      250\n",
       "Jan   A      100\n",
       "      B      150\n",
       "Mar   A      300\n",
       "      B      350"
      ]
     },
     "execution_count": 102,
     "metadata": {},
     "output_type": "execute_result"
    }
   ],
   "source": [
    "total_sales = df2.groupby(['Month','Store'])['Sales'].agg([\"sum\"])\n",
    "total_sales"
   ]
  },
  {
   "cell_type": "code",
   "execution_count": 103,
   "id": "18905cb7",
   "metadata": {},
   "outputs": [
    {
     "name": "stdout",
     "output_type": "stream",
     "text": [
      "<bound method Series.unique of 0    HR\n",
      "1    IT\n",
      "2    HR\n",
      "3    IT\n",
      "4    IT\n",
      "5    HR\n",
      "Name: Department, dtype: object>\n",
      "<bound method IndexOpsMixin.nunique of 0    HR\n",
      "1    IT\n",
      "2    HR\n",
      "3    IT\n",
      "4    IT\n",
      "5    HR\n",
      "Name: Department, dtype: object>\n"
     ]
    }
   ],
   "source": [
    "import pandas as pd\n",
    "\n",
    "data = {\n",
    "    'Employee': ['Alice', 'Bob', 'Charlie', 'David', 'Eve', 'Frank'],\n",
    "    'Department': ['HR', 'IT', 'HR', 'IT', 'IT', 'HR'],\n",
    "    'Salary': [50000, 60000, 55000, 70000, 65000, 58000]\n",
    "}\n",
    "df = pd.DataFrame(data)\n",
    "print(df['Department'].unique)\n",
    "print(df['Department'].nunique)"
   ]
  },
  {
   "cell_type": "code",
   "execution_count": 104,
   "id": "5dfc3cca",
   "metadata": {},
   "outputs": [
    {
     "data": {
      "text/plain": [
       "Department\n",
       "HR    54333.333333\n",
       "IT    65000.000000\n",
       "Name: Salary, dtype: float64"
      ]
     },
     "execution_count": 104,
     "metadata": {},
     "output_type": "execute_result"
    }
   ],
   "source": [
    "avg_salary = df.groupby('Department')['Salary'].mean()\n",
    "avg_salary"
   ]
  },
  {
   "cell_type": "code",
   "execution_count": 105,
   "id": "443d02c1",
   "metadata": {},
   "outputs": [
    {
     "data": {
      "text/html": [
       "<div>\n",
       "<style scoped>\n",
       "    .dataframe tbody tr th:only-of-type {\n",
       "        vertical-align: middle;\n",
       "    }\n",
       "\n",
       "    .dataframe tbody tr th {\n",
       "        vertical-align: top;\n",
       "    }\n",
       "\n",
       "    .dataframe thead th {\n",
       "        text-align: right;\n",
       "    }\n",
       "</style>\n",
       "<table border=\"1\" class=\"dataframe\">\n",
       "  <thead>\n",
       "    <tr style=\"text-align: right;\">\n",
       "      <th></th>\n",
       "      <th>sum</th>\n",
       "      <th>mean</th>\n",
       "      <th>max</th>\n",
       "    </tr>\n",
       "    <tr>\n",
       "      <th>Department</th>\n",
       "      <th></th>\n",
       "      <th></th>\n",
       "      <th></th>\n",
       "    </tr>\n",
       "  </thead>\n",
       "  <tbody>\n",
       "    <tr>\n",
       "      <th>HR</th>\n",
       "      <td>163000</td>\n",
       "      <td>54333.333333</td>\n",
       "      <td>58000</td>\n",
       "    </tr>\n",
       "    <tr>\n",
       "      <th>IT</th>\n",
       "      <td>195000</td>\n",
       "      <td>65000.000000</td>\n",
       "      <td>70000</td>\n",
       "    </tr>\n",
       "  </tbody>\n",
       "</table>\n",
       "</div>"
      ],
      "text/plain": [
       "               sum          mean    max\n",
       "Department                             \n",
       "HR          163000  54333.333333  58000\n",
       "IT          195000  65000.000000  70000"
      ]
     },
     "execution_count": 105,
     "metadata": {},
     "output_type": "execute_result"
    }
   ],
   "source": [
    "salary_agg = df.groupby('Department')['Salary'].agg(['sum','mean','max'])\n",
    "salary_agg"
   ]
  },
  {
   "cell_type": "code",
   "execution_count": null,
   "id": "7f8384ae",
   "metadata": {},
   "outputs": [
    {
     "data": {
      "text/html": [
       "<div>\n",
       "<style scoped>\n",
       "    .dataframe tbody tr th:only-of-type {\n",
       "        vertical-align: middle;\n",
       "    }\n",
       "\n",
       "    .dataframe tbody tr th {\n",
       "        vertical-align: top;\n",
       "    }\n",
       "\n",
       "    .dataframe thead th {\n",
       "        text-align: right;\n",
       "    }\n",
       "</style>\n",
       "<table border=\"1\" class=\"dataframe\">\n",
       "  <thead>\n",
       "    <tr style=\"text-align: right;\">\n",
       "      <th></th>\n",
       "      <th>ProductName</th>\n",
       "      <th>ProductPrice</th>\n",
       "    </tr>\n",
       "  </thead>\n",
       "  <tbody>\n",
       "    <tr>\n",
       "      <th>A</th>\n",
       "      <td>Product A</td>\n",
       "      <td>12500</td>\n",
       "    </tr>\n",
       "    <tr>\n",
       "      <th>B</th>\n",
       "      <td>Product B</td>\n",
       "      <td>16600</td>\n",
       "    </tr>\n",
       "    <tr>\n",
       "      <th>C</th>\n",
       "      <td>Product C</td>\n",
       "      <td>22250</td>\n",
       "    </tr>\n",
       "  </tbody>\n",
       "</table>\n",
       "</div>"
      ],
      "text/plain": [
       "  ProductName  ProductPrice\n",
       "A   Product A         12500\n",
       "B   Product B         16600\n",
       "C   Product C         22250"
      ]
     },
     "execution_count": 106,
     "metadata": {},
     "output_type": "execute_result"
    }
   ],
   "source": [
    "ser_products = pd.Series(['Product A', 'Product B', 'Product C'], index = ['A', 'B', 'C'])\n",
    "ser_prices = pd.Series([22250, 16600, 12500], index = ['C', 'B', 'A'])\n",
    "\n",
    "data = {'ProductName':ser_products, 'ProductPrice':ser_prices}\n",
    "df = pd.DataFrame(data)\n",
    "\n",
    "df"
   ]
  },
  {
   "cell_type": "code",
   "execution_count": 9,
   "id": "ed19076c",
   "metadata": {},
   "outputs": [
    {
     "name": "stdout",
     "output_type": "stream",
     "text": [
      "i) {'divya', 'esha', 'bhavya', 'chirag', 'farhan', 'aarav', 'harsh', 'gauri'}\n",
      "{'aarav'}\n",
      "{'farhan'}\n",
      "{'harsh'}\n",
      "ii) {'farhan', 'aarav', 'harsh'}\n",
      "iii) {'chirag', 'esha'}\n"
     ]
    }
   ],
   "source": [
    "guitar = {\"aarav\",\"bhavya\",\"chirag\",\"divya\",\"esha\"}\n",
    "piano = {\"bhavya\",\"chirag\",\"esha\",\"farhan\",\"gauri\"}\n",
    "violin = {\"chirag\",\"divya\",\"esha\",\"gauri\",\"harsh\"}\n",
    "\n",
    "all3 = guitar.union(piano).union(violin)\n",
    "print(\"i)\",all3)\n",
    "\n",
    "g1 = guitar.difference(piano).difference(violin)\n",
    "print(g1)\n",
    "p1 = piano.difference(guitar).difference(violin)\n",
    "print(p1)\n",
    "v1 = violin.difference(piano).difference(guitar)\n",
    "print(v1)\n",
    "atleast1 = g1.union(p1).union(v1)\n",
    "print(\"ii)\",atleast1)\n",
    "\n",
    "g2 = guitar.intersection(piano).intersection(violin)\n",
    "p2 = piano.intersection(guitar).intersection(violin)\n",
    "v2 = violin.intersection(piano).intersection(guitar)\n",
    "atleast2 = g2.union(p2).union(v2)\n",
    "print(\"iii)\",atleast2)\n"
   ]
  },
  {
   "cell_type": "code",
   "execution_count": 24,
   "id": "958b2d28",
   "metadata": {},
   "outputs": [
    {
     "name": "stdout",
     "output_type": "stream",
     "text": [
      "['hello', 'i', 'am', 'world', 'good', 'morning']\n",
      "i\n",
      "morning\n"
     ]
    }
   ],
   "source": [
    "str = \"hello i am world good morning\"\n",
    "ss = str.split()\n",
    "print(ss)\n",
    "short = ss[0]\n",
    "long = ss[0]\n",
    "\n",
    "for i in ss:\n",
    "    if len(i)<len(short):\n",
    "        short=i\n",
    "    elif len(i)>=len(long):\n",
    "        long=i\n",
    "    \n",
    "print(short)\n",
    "print(long)"
   ]
  },
  {
   "cell_type": "code",
   "execution_count": 34,
   "id": "5d5cd8b2",
   "metadata": {},
   "outputs": [
    {
     "name": "stdout",
     "output_type": "stream",
     "text": [
      "33.33333333333333\n"
     ]
    }
   ],
   "source": [
    "def long_word_per(sentence):\n",
    "    ss = sentence.split()\n",
    "    l = []\n",
    "    for i in ss:\n",
    "        if len(i)>=6:\n",
    "            l.append(i)\n",
    "    return l    \n",
    "\n",
    "str=\"helloo world , good morning !\"\n",
    "ss = str.split()\n",
    "tl = len(ss)\n",
    "ml = len(long_word_per(str))\n",
    "print(ml/tl*100)\n"
   ]
  }
 ],
 "metadata": {
  "kernelspec": {
   "display_name": "Python 3",
   "language": "python",
   "name": "python3"
  },
  "language_info": {
   "codemirror_mode": {
    "name": "ipython",
    "version": 3
   },
   "file_extension": ".py",
   "mimetype": "text/x-python",
   "name": "python",
   "nbconvert_exporter": "python",
   "pygments_lexer": "ipython3",
   "version": "3.9.7"
  }
 },
 "nbformat": 4,
 "nbformat_minor": 5
}
