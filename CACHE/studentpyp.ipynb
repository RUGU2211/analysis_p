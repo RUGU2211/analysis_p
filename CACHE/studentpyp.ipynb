{
 "cells": [
  {
   "cell_type": "code",
   "execution_count": 4,
   "id": "d3345c30",
   "metadata": {},
   "outputs": [],
   "source": [
    "import sqlite3\n",
    "conn = sqlite3.connect(\"student.db\")\n",
    "cursor = conn.cursor()"
   ]
  },
  {
   "cell_type": "code",
   "execution_count": null,
   "id": "3c5a6b99",
   "metadata": {},
   "outputs": [],
   "source": [
    "cursor.execute('''create table if not exists student(\n",
    "               roll integer primary key,\n",
    "               name text,\n",
    "               sapid text unique,\n",
    "               program text,\n",
    "               semester integer,\n",
    "               marks integer,\n",
    "               result text check(result in(\"pass\",\"fail\"))\n",
    "               )''')\n",
    "conn.commit()"
   ]
  },
  {
   "cell_type": "code",
   "execution_count": 12,
   "id": "115b231c",
   "metadata": {},
   "outputs": [],
   "source": [
    "num = int(input(\"Enter number  students data you want to enter \"))\n",
    "for _ in range(num):\n",
    "    roll= int(input(\"enter roll number of student \"))\n",
    "    name= input(\"enter name of student \")\n",
    "    sapid= input(\"enter Sap ID of student \")\n",
    "    program= input(\"enter program of student \")\n",
    "    semester= int(input(\"enter semester of student \"))\n",
    "    marks= int(input(\"enter marks of student \"))\n",
    "    result= input(\"enter result of student \")\n",
    "\n",
    "    cursor.execute(\"insert into student(roll,name,sapid,program,semester,marks,result) values(?,?,?,?,?,?,?)\",\n",
    "                   (roll,name,sapid,program,semester,marks,result))"
   ]
  },
  {
   "cell_type": "code",
   "execution_count": null,
   "id": "dbc50634",
   "metadata": {},
   "outputs": [],
   "source": [
    "cursor.execute(\"select * from student\")\n",
    "students = cursor.fetchall()\n",
    "\n",
    "print(\"Students data :\\n\")\n",
    "for s in students:\n",
    "    print(s)"
   ]
  },
  {
   "cell_type": "code",
   "execution_count": null,
   "id": "37b4d64d",
   "metadata": {},
   "outputs": [],
   "source": [
    "# search student with name and sap id\n",
    "name=input(\"enter name of student you want to search\")\n",
    "sapid = input(\"enter sapid of student you want to search\")\n",
    "\n",
    "cursor.execute(\"select * from student where name=? and sapid=?\",(name,sapid))\n",
    "searchstudent = cursor.fetchall()\n",
    "\n",
    "print(\"Search Result : \")\n",
    "for ss in searchstudent:\n",
    "    print(ss)\n"
   ]
  },
  {
   "cell_type": "code",
   "execution_count": null,
   "id": "a44b019d",
   "metadata": {},
   "outputs": [],
   "source": [
    "# update marks\n",
    "name = input(\"enter name of student you want to update marks\")\n",
    "sapid = input(\"enter sapid of student you want to update marks\")\n",
    "marks = int(input(\"enter new marks for student\"))\n",
    "\n",
    "cursor.execute(\"update student set marks=? where name=? and sapid=?\",(marks,name,sapid))\n",
    "\n",
    "cursor.execute(\"select * from student\")\n",
    "updated = cursor.fetchall()\n",
    "print(\"Updated Results : \")\n",
    "for u in updated:\n",
    "    print(u)"
   ]
  }
 ],
 "metadata": {
  "kernelspec": {
   "display_name": "Python 3",
   "language": "python",
   "name": "python3"
  },
  "language_info": {
   "codemirror_mode": {
    "name": "ipython",
    "version": 3
   },
   "file_extension": ".py",
   "mimetype": "text/x-python",
   "name": "python",
   "nbconvert_exporter": "python",
   "pygments_lexer": "ipython3",
   "version": "3.9.7"
  }
 },
 "nbformat": 4,
 "nbformat_minor": 5
}
